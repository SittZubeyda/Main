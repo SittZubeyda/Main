{
 "cells": [
  {
   "cell_type": "code",
   "execution_count": 1,
   "id": "e2cd893e",
   "metadata": {},
   "outputs": [
    {
     "name": "stdout",
     "output_type": "stream",
     "text": [
      "Requirement already satisfied: pandas in c:\\users\\asjr\\anaconda3\\lib\\site-packages (1.3.4)\n",
      "Requirement already satisfied: python-dateutil>=2.7.3 in c:\\users\\asjr\\anaconda3\\lib\\site-packages (from pandas) (2.8.2)\n",
      "Requirement already satisfied: pytz>=2017.3 in c:\\users\\asjr\\anaconda3\\lib\\site-packages (from pandas) (2021.3)\n",
      "Requirement already satisfied: numpy>=1.17.3 in c:\\users\\asjr\\anaconda3\\lib\\site-packages (from pandas) (1.20.3)\n",
      "Requirement already satisfied: six>=1.5 in c:\\users\\asjr\\anaconda3\\lib\\site-packages (from python-dateutil>=2.7.3->pandas) (1.16.0)\n"
     ]
    }
   ],
   "source": [
    "!pip install pandas"
   ]
  },
  {
   "cell_type": "code",
   "execution_count": 2,
   "id": "15e88122",
   "metadata": {},
   "outputs": [],
   "source": [
    "import requests\n",
    "from bs4 import BeautifulSoup\n",
    "import pandas as pd\n",
    "from time import sleep"
   ]
  },
  {
   "cell_type": "code",
   "execution_count": 3,
   "id": "70eb2d17",
   "metadata": {},
   "outputs": [],
   "source": [
    "from selenium.webdriver import Chrome\n",
    "from selenium.webdriver.common.keys import Keys\n",
    "from selenium.webdriver.support.ui import WebDriverWait as wait\n",
    "from selenium.webdriver.support import expected_conditions as EC\n",
    "from selenium.common.exceptions import NoSuchElementException\n",
    "from bs4 import BeautifulSoup\n",
    "from time import sleep"
   ]
  },
  {
   "cell_type": "code",
   "execution_count": 4,
   "id": "9698762d",
   "metadata": {},
   "outputs": [],
   "source": [
    "from selenium import webdriver\n",
    "from selenium.webdriver.chrome.service import Service\n",
    "\n",
    "s=Service('C:\\\\Users\\\\asJr\\\\Desktop\\\\chromedriver.exe')\n",
    "browser = webdriver.Chrome(service=s)"
   ]
  },
  {
   "cell_type": "code",
   "execution_count": 23,
   "id": "94f12d86",
   "metadata": {},
   "outputs": [],
   "source": [
    "url ='https://www.hse.ru/org/persons/?ltr=%D0%90;udept=22726'"
   ]
  },
  {
   "cell_type": "code",
   "execution_count": 31,
   "id": "2a479c19",
   "metadata": {},
   "outputs": [],
   "source": [
    "browser.get(url)"
   ]
  },
  {
   "cell_type": "code",
   "execution_count": 32,
   "id": "82505d72",
   "metadata": {},
   "outputs": [],
   "source": [
    "from selenium.webdriver.common.by import By"
   ]
  },
  {
   "cell_type": "code",
   "execution_count": 33,
   "id": "7ae52d7b",
   "metadata": {},
   "outputs": [
    {
     "name": "stdout",
     "output_type": "stream",
     "text": [
      "503\n"
     ]
    }
   ],
   "source": [
    "count=browser.find_element(By.CLASS_NAME,'persons__section.js-persons-section.current').get_attribute('count')\n",
    "count=int(count)\n",
    "type (count)\n",
    "print (count)"
   ]
  },
  {
   "cell_type": "code",
   "execution_count": 34,
   "id": "1a1894e1",
   "metadata": {},
   "outputs": [
    {
     "name": "stdout",
     "output_type": "stream",
     "text": [
      "https://www.hse.ru/org/persons/728931370\n"
     ]
    }
   ],
   "source": [
    "url_p=browser.find_elements(By.CLASS_NAME, 'main.content.small')[0].find_element(By.TAG_NAME, 'a').get_attribute('href')\n",
    "print(url_p)"
   ]
  },
  {
   "cell_type": "code",
   "execution_count": 35,
   "id": "bc20ae8a",
   "metadata": {},
   "outputs": [],
   "source": [
    "data = []\n",
    "\n",
    "for i in range(0, count-1):\n",
    "    \n",
    "    url_p=browser.find_elements(By.CLASS_NAME, 'main.content.small')[i].find_element(By.TAG_NAME, 'a').get_attribute('href')\n",
    "    \n",
    " \n",
    "    \n",
    "    browser.get(url_p)\n",
    "    link=url_p\n",
    "    name=browser.find_element(By.CLASS_NAME, 'person-caption').text\n",
    "    \n",
    "    try:\n",
    "        dol=browser.find_element(By.CLASS_NAME, 'person-appointment-title').text\n",
    "    except:\n",
    "        dol=\"-\"\n",
    "        \n",
    "    try:\n",
    "        place=browser.find_element(By.CLASS_NAME, 'g-ul.g-list.small').text\n",
    "    except:\n",
    "        place=\"-\"\n",
    "    \n",
    "    try:\n",
    "        contact0=browser.find_elements(By.CLASS_NAME, 'main-list.large')[0].text\n",
    "    except:\n",
    "        contact0=\"-\"\n",
    "    \n",
    "    try:   \n",
    "        contact1=browser.find_elements(By.CLASS_NAME, 'main-list.large')[1].text\n",
    "    except:\n",
    "        contact1=\"-\"  \n",
    "    \n",
    "    try:\n",
    "        start=browser.find_element(By.CLASS_NAME, 'g-ul.g-list.small.person-employment-addition').text\n",
    "    except:\n",
    "        start=\"-\"\n",
    "\n",
    "    browser.get(url)\n",
    "    \n",
    "    data.append([name, dol, place, contact0, contact1, link, start])\n",
    "\n"
   ]
  },
  {
   "cell_type": "code",
   "execution_count": 36,
   "id": "fdf2cfb2",
   "metadata": {},
   "outputs": [
    {
     "data": {
      "text/html": [
       "<div>\n",
       "<style scoped>\n",
       "    .dataframe tbody tr th:only-of-type {\n",
       "        vertical-align: middle;\n",
       "    }\n",
       "\n",
       "    .dataframe tbody tr th {\n",
       "        vertical-align: top;\n",
       "    }\n",
       "\n",
       "    .dataframe thead th {\n",
       "        text-align: right;\n",
       "    }\n",
       "</style>\n",
       "<table border=\"1\" class=\"dataframe\">\n",
       "  <thead>\n",
       "    <tr style=\"text-align: right;\">\n",
       "      <th></th>\n",
       "      <th>ФИО</th>\n",
       "      <th>Должность</th>\n",
       "      <th>Место работы</th>\n",
       "      <th>Владение языками/Контакты</th>\n",
       "      <th>Контакты</th>\n",
       "      <th>Ссылка</th>\n",
       "      <th>Начало работы</th>\n",
       "    </tr>\n",
       "  </thead>\n",
       "  <tbody>\n",
       "    <tr>\n",
       "      <th>0</th>\n",
       "      <td>Абаева Фатима Руслановна</td>\n",
       "      <td>Руководитель проекта:</td>\n",
       "      <td>Руководитель проекта:Институт экономики и регу...</td>\n",
       "      <td>Контакты</td>\n",
       "      <td></td>\n",
       "      <td>https://www.hse.ru/org/persons/728931370</td>\n",
       "      <td>Начала работать в НИУ ВШЭ в 2022 году.</td>\n",
       "    </tr>\n",
       "    <tr>\n",
       "      <th>1</th>\n",
       "      <td>Абалмасова Екатерина Сергеевна</td>\n",
       "      <td>стажер-исследователь:</td>\n",
       "      <td>стажер-исследователь:Институт образования / Пр...</td>\n",
       "      <td>Владение языками\\nанглийский</td>\n",
       "      <td>Контакты\\nТелефон:\\n22126\\nАдрес: Потаповский ...</td>\n",
       "      <td>https://www.hse.ru/staff/esabalmasova</td>\n",
       "      <td>Начала работать в НИУ ВШЭ в 2017 году.\\nНаучно...</td>\n",
       "    </tr>\n",
       "    <tr>\n",
       "      <th>2</th>\n",
       "      <td>Абанкина Ирина Всеволодовна</td>\n",
       "      <td>Профессор:</td>\n",
       "      <td>Профессор:Институт образования / Департамент о...</td>\n",
       "      <td>Владение языками\\nанглийский</td>\n",
       "      <td>Контакты\\nТелефон:\\n+7(495) 772-9590 *22073\\nА...</td>\n",
       "      <td>https://www.hse.ru/org/persons/25477</td>\n",
       "      <td>Начала работать в НИУ ВШЭ в 2001 году.\\nНаучно...</td>\n",
       "    </tr>\n",
       "    <tr>\n",
       "      <th>3</th>\n",
       "      <td>Абанкина Татьяна Всеволодовна</td>\n",
       "      <td>Директор центра:</td>\n",
       "      <td>Директор центра:Факультет городского и региона...</td>\n",
       "      <td>Владение языками\\nанглийский</td>\n",
       "      <td>Контакты\\nТелефон:\\n+7(495) 772-9590 *12036\\nА...</td>\n",
       "      <td>https://www.hse.ru/org/persons/203662</td>\n",
       "      <td>Начала работать в НИУ ВШЭ в 2001 году.\\nНаучно...</td>\n",
       "    </tr>\n",
       "    <tr>\n",
       "      <th>4</th>\n",
       "      <td>Абанокова Ксения Руслановна</td>\n",
       "      <td>Младший научный сотрудник:</td>\n",
       "      <td>Младший научный сотрудник:Институт социальной ...</td>\n",
       "      <td>Владение языками\\nанглийский</td>\n",
       "      <td>Контакты\\nТелефон:\\n+7(495) 624-6240\\n+7(495) ...</td>\n",
       "      <td>https://www.hse.ru/org/persons/14243866</td>\n",
       "      <td>Начала работать в НИУ ВШЭ в 2011 году.\\nНаучно...</td>\n",
       "    </tr>\n",
       "    <tr>\n",
       "      <th>5</th>\n",
       "      <td>Абашин Сергей Николаевич</td>\n",
       "      <td>Приглашенный преподаватель:</td>\n",
       "      <td>Приглашенный преподаватель:Факультет гуманитар...</td>\n",
       "      <td>Контакты\\nТелефон:\\n23222\\nАдрес: Старая Басма...</td>\n",
       "      <td></td>\n",
       "      <td>https://www.hse.ru/org/persons/346247135</td>\n",
       "      <td>Начал работать в НИУ ВШЭ в 2021 году.</td>\n",
       "    </tr>\n",
       "    <tr>\n",
       "      <th>6</th>\n",
       "      <td>Абашкин Александр Сергеевич</td>\n",
       "      <td>Инженер:</td>\n",
       "      <td>Инженер:Институт статистических исследований и...</td>\n",
       "      <td>Владение языками\\nанглийский</td>\n",
       "      <td>Контакты\\nТелефон:\\n12049\\nАдрес: Мясницкая ул...</td>\n",
       "      <td>https://www.hse.ru/org/persons/266820407</td>\n",
       "      <td>Начал работать в НИУ ВШЭ в 2019 году.</td>\n",
       "    </tr>\n",
       "    <tr>\n",
       "      <th>7</th>\n",
       "      <td>Абашкин Василий Львович</td>\n",
       "      <td>Старший научный сотрудник:</td>\n",
       "      <td>Старший научный сотрудник:Институт статистичес...</td>\n",
       "      <td>Владение языками\\nфранцузский\\nанглийский</td>\n",
       "      <td>Контакты\\nТелефон:\\n11609\\nАдрес: Мясницкая ул...</td>\n",
       "      <td>https://www.hse.ru/staff/vabashkin</td>\n",
       "      <td>Начал работать в НИУ ВШЭ в 2011 году.\\nНаучно-...</td>\n",
       "    </tr>\n",
       "    <tr>\n",
       "      <th>8</th>\n",
       "      <td>Аббасова Альбина Камиловна</td>\n",
       "      <td>Делопроизводитель:</td>\n",
       "      <td>Делопроизводитель:Военный учебный центр / учеб...</td>\n",
       "      <td>Контакты\\nТелефон:\\n61308\\nАдрес: Космонавта В...</td>\n",
       "      <td></td>\n",
       "      <td>https://www.hse.ru/org/persons/196917306</td>\n",
       "      <td>Начала работать в НИУ ВШЭ в 2016 году.</td>\n",
       "    </tr>\n",
       "    <tr>\n",
       "      <th>9</th>\n",
       "      <td>Аббасова Елена Сергеевна</td>\n",
       "      <td>Заместитель директора центра:</td>\n",
       "      <td>Заместитель директора центра:Дирекция основных...</td>\n",
       "      <td>Владение языками\\nанглийский\\nфранцузский</td>\n",
       "      <td>Контакты\\nТелефон:\\n+7 (495) 772-95-90\\n27852\\...</td>\n",
       "      <td>https://www.hse.ru/org/persons/101532960</td>\n",
       "      <td>Начала работать в НИУ ВШЭ в 2017 году.</td>\n",
       "    </tr>\n",
       "  </tbody>\n",
       "</table>\n",
       "</div>"
      ],
      "text/plain": [
       "                              ФИО                      Должность  \\\n",
       "0        Абаева Фатима Руслановна          Руководитель проекта:   \n",
       "1  Абалмасова Екатерина Сергеевна          стажер-исследователь:   \n",
       "2     Абанкина Ирина Всеволодовна                     Профессор:   \n",
       "3   Абанкина Татьяна Всеволодовна               Директор центра:   \n",
       "4     Абанокова Ксения Руслановна     Младший научный сотрудник:   \n",
       "5        Абашин Сергей Николаевич    Приглашенный преподаватель:   \n",
       "6     Абашкин Александр Сергеевич                       Инженер:   \n",
       "7         Абашкин Василий Львович     Старший научный сотрудник:   \n",
       "8      Аббасова Альбина Камиловна             Делопроизводитель:   \n",
       "9        Аббасова Елена Сергеевна  Заместитель директора центра:   \n",
       "\n",
       "                                        Место работы  \\\n",
       "0  Руководитель проекта:Институт экономики и регу...   \n",
       "1  стажер-исследователь:Институт образования / Пр...   \n",
       "2  Профессор:Институт образования / Департамент о...   \n",
       "3  Директор центра:Факультет городского и региона...   \n",
       "4  Младший научный сотрудник:Институт социальной ...   \n",
       "5  Приглашенный преподаватель:Факультет гуманитар...   \n",
       "6  Инженер:Институт статистических исследований и...   \n",
       "7  Старший научный сотрудник:Институт статистичес...   \n",
       "8  Делопроизводитель:Военный учебный центр / учеб...   \n",
       "9  Заместитель директора центра:Дирекция основных...   \n",
       "\n",
       "                           Владение языками/Контакты  \\\n",
       "0                                           Контакты   \n",
       "1                       Владение языками\\nанглийский   \n",
       "2                       Владение языками\\nанглийский   \n",
       "3                       Владение языками\\nанглийский   \n",
       "4                       Владение языками\\nанглийский   \n",
       "5  Контакты\\nТелефон:\\n23222\\nАдрес: Старая Басма...   \n",
       "6                       Владение языками\\nанглийский   \n",
       "7          Владение языками\\nфранцузский\\nанглийский   \n",
       "8  Контакты\\nТелефон:\\n61308\\nАдрес: Космонавта В...   \n",
       "9          Владение языками\\nанглийский\\nфранцузский   \n",
       "\n",
       "                                            Контакты  \\\n",
       "0                                                      \n",
       "1  Контакты\\nТелефон:\\n22126\\nАдрес: Потаповский ...   \n",
       "2  Контакты\\nТелефон:\\n+7(495) 772-9590 *22073\\nА...   \n",
       "3  Контакты\\nТелефон:\\n+7(495) 772-9590 *12036\\nА...   \n",
       "4  Контакты\\nТелефон:\\n+7(495) 624-6240\\n+7(495) ...   \n",
       "5                                                      \n",
       "6  Контакты\\nТелефон:\\n12049\\nАдрес: Мясницкая ул...   \n",
       "7  Контакты\\nТелефон:\\n11609\\nАдрес: Мясницкая ул...   \n",
       "8                                                      \n",
       "9  Контакты\\nТелефон:\\n+7 (495) 772-95-90\\n27852\\...   \n",
       "\n",
       "                                     Ссылка  \\\n",
       "0  https://www.hse.ru/org/persons/728931370   \n",
       "1     https://www.hse.ru/staff/esabalmasova   \n",
       "2      https://www.hse.ru/org/persons/25477   \n",
       "3     https://www.hse.ru/org/persons/203662   \n",
       "4   https://www.hse.ru/org/persons/14243866   \n",
       "5  https://www.hse.ru/org/persons/346247135   \n",
       "6  https://www.hse.ru/org/persons/266820407   \n",
       "7        https://www.hse.ru/staff/vabashkin   \n",
       "8  https://www.hse.ru/org/persons/196917306   \n",
       "9  https://www.hse.ru/org/persons/101532960   \n",
       "\n",
       "                                       Начало работы  \n",
       "0             Начала работать в НИУ ВШЭ в 2022 году.  \n",
       "1  Начала работать в НИУ ВШЭ в 2017 году.\\nНаучно...  \n",
       "2  Начала работать в НИУ ВШЭ в 2001 году.\\nНаучно...  \n",
       "3  Начала работать в НИУ ВШЭ в 2001 году.\\nНаучно...  \n",
       "4  Начала работать в НИУ ВШЭ в 2011 году.\\nНаучно...  \n",
       "5              Начал работать в НИУ ВШЭ в 2021 году.  \n",
       "6              Начал работать в НИУ ВШЭ в 2019 году.  \n",
       "7  Начал работать в НИУ ВШЭ в 2011 году.\\nНаучно-...  \n",
       "8             Начала работать в НИУ ВШЭ в 2016 году.  \n",
       "9             Начала работать в НИУ ВШЭ в 2017 году.  "
      ]
     },
     "execution_count": 36,
     "metadata": {},
     "output_type": "execute_result"
    }
   ],
   "source": [
    "header = ['ФИО', 'Должность', 'Место работы', 'Владение языками/Контакты', 'Контакты', 'Ссылка', 'Начало работы']\n",
    "df = pd.DataFrame(data, columns=header)\n",
    "df.head(10)"
   ]
  },
  {
   "cell_type": "code",
   "execution_count": 39,
   "id": "042d2bdb",
   "metadata": {},
   "outputs": [],
   "source": [
    "df.to_csv(\"C://Users//asJr//Desktop//Python//Парсинг//teachers.csv\")"
   ]
  },
  {
   "cell_type": "code",
   "execution_count": 40,
   "id": "68fb0c17",
   "metadata": {},
   "outputs": [],
   "source": [
    "df.to_excel(\"C://Users//asJr//Desktop//Python//Парсинг//teachers.xlsx\")"
   ]
  },
  {
   "cell_type": "code",
   "execution_count": null,
   "id": "94d4ab61",
   "metadata": {},
   "outputs": [],
   "source": []
  }
 ],
 "metadata": {
  "kernelspec": {
   "display_name": "Python 3 (ipykernel)",
   "language": "python",
   "name": "python3"
  },
  "language_info": {
   "codemirror_mode": {
    "name": "ipython",
    "version": 3
   },
   "file_extension": ".py",
   "mimetype": "text/x-python",
   "name": "python",
   "nbconvert_exporter": "python",
   "pygments_lexer": "ipython3",
   "version": "3.9.7"
  }
 },
 "nbformat": 4,
 "nbformat_minor": 5
}
